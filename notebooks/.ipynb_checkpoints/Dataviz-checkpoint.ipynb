{
 "cells": [
  {
   "cell_type": "markdown",
   "id": "cdd4f0e8",
   "metadata": {},
   "source": [
    "# Time Series With Range Slider"
   ]
  },
  {
   "cell_type": "code",
   "execution_count": null,
   "id": "d95839b4",
   "metadata": {},
   "outputs": [],
   "source": [
    "import plotly.express as px\n",
    "import pandas as pd\n",
    "\n",
    "df = pd.read_csv('https://raw.githubusercontent.com/plotly/datasets/master/finance-charts-apple.csv')\n",
    "\n",
    "fig = px.line(df, x='Date', y='AAPL.High', title='Time Series with Rangeslider')\n",
    "\n",
    "fig.update_xaxes(rangeslider_visible=True)\n",
    "fig.show()"
   ]
  },
  {
   "cell_type": "code",
   "execution_count": 5,
   "id": "49539515",
   "metadata": {},
   "outputs": [],
   "source": [
    "https://plotly.com/python/time-series/"
   ]
  },
  {
   "cell_type": "markdown",
   "id": "a30185b2",
   "metadata": {},
   "source": [
    "# Time series, with a line with forecast"
   ]
  },
  {
   "cell_type": "code",
   "execution_count": 4,
   "id": "59fc74bb",
   "metadata": {},
   "outputs": [],
   "source": [
    "https://www.kaggle.com/code/namansood/time-series-processing-arima-models-and-plotly\n",
    "\n",
    "#cell 52"
   ]
  },
  {
   "cell_type": "code",
   "execution_count": null,
   "id": "f5512833",
   "metadata": {},
   "outputs": [],
   "source": [
    "from statsmodels.tsa.arima_model import ARIMA\n",
    "from pandas import datetime\n",
    "\n",
    "# fit model\n",
    "model = ARIMA(tSeries, order=(1,0,1)) # (ARMA) = (1,0,1)\n",
    "model_fit = model.fit(disp=0)\n",
    "\n",
    "start_index = datetime(1944, 6, 25)\n",
    "end_index = datetime(1945, 5, 31)\n",
    "forecast = model_fit.predict(start=start_index, end=end_index)\n",
    "\n",
    "# visualization\n",
    "plt.figure(figsize=(22,10))\n",
    "plt.plot(bin_weather.Date,bin_weather.MeanTemp,label = \"original\")\n",
    "plt.plot(forecast,label = \"predicted\")\n",
    "plt.title(\"Time Series Forecast\")\n",
    "plt.xlabel(\"Date\")\n",
    "plt.ylabel(\"Mean Temperature\")\n",
    "plt.legend()\n",
    "plt.show()"
   ]
  },
  {
   "cell_type": "code",
   "execution_count": null,
   "id": "0c75950a",
   "metadata": {},
   "outputs": [],
   "source": []
  }
 ],
 "metadata": {
  "kernelspec": {
   "display_name": "Python 3 (ipykernel)",
   "language": "python",
   "name": "python3"
  },
  "language_info": {
   "codemirror_mode": {
    "name": "ipython",
    "version": 3
   },
   "file_extension": ".py",
   "mimetype": "text/x-python",
   "name": "python",
   "nbconvert_exporter": "python",
   "pygments_lexer": "ipython3",
   "version": "3.10.6"
  },
  "toc": {
   "base_numbering": 1,
   "nav_menu": {},
   "number_sections": true,
   "sideBar": true,
   "skip_h1_title": false,
   "title_cell": "Table of Contents",
   "title_sidebar": "Contents",
   "toc_cell": false,
   "toc_position": {},
   "toc_section_display": true,
   "toc_window_display": false
  },
  "varInspector": {
   "cols": {
    "lenName": 16,
    "lenType": 16,
    "lenVar": 40
   },
   "kernels_config": {
    "python": {
     "delete_cmd_postfix": "",
     "delete_cmd_prefix": "del ",
     "library": "var_list.py",
     "varRefreshCmd": "print(var_dic_list())"
    },
    "r": {
     "delete_cmd_postfix": ") ",
     "delete_cmd_prefix": "rm(",
     "library": "var_list.r",
     "varRefreshCmd": "cat(var_dic_list()) "
    }
   },
   "types_to_exclude": [
    "module",
    "function",
    "builtin_function_or_method",
    "instance",
    "_Feature"
   ],
   "window_display": false
  }
 },
 "nbformat": 4,
 "nbformat_minor": 5
}
