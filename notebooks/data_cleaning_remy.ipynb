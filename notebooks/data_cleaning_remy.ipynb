{
 "cells": [
  {
   "cell_type": "code",
   "execution_count": 27,
   "metadata": {},
   "outputs": [],
   "source": [
    "import pandas as pd\n",
    "from scipy.stats import zscore\n",
    "import matplotlib.pyplot as plt\n",
    "import seaborn as sns\n"
   ]
  },
  {
   "cell_type": "code",
   "execution_count": null,
   "metadata": {},
   "outputs": [],
   "source": [
    "def transform_xls_to_csv(filename: str, new_filename: str) -> None:\n",
    "    # Read and store content of an excel file \n",
    "    read_file = pd.read_excel (filename)\n",
    "    # Write the dataframe object into csv file\n",
    "    read_file.to_csv (new_filename, index = None, header=True)"
   ]
  },
  {
   "cell_type": "code",
   "execution_count": 11,
   "metadata": {},
   "outputs": [],
   "source": [
    "custom_dtype = {'id': str,                        \n",
    "                'pocket':str,\n",
    "                'product':str,\n",
    "                'status':str,\n",
    "                'option':str,\n",
    "                'guest_id':str,\n",
    "                'booking_fees':float,\n",
    "                'amount':float,\n",
    "                'total_amount':float,\n",
    "                'discount':float,\n",
    "                'creation_date_hour':str,\n",
    "                'beginning_date_hour':str,\n",
    "                'begining_slice':str,\n",
    "                'end_date_hour':str,\n",
    "                'max_date_hour':str,\n",
    "                'cxl_date_hour':str,\n",
    "                'los':str,\n",
    "                'lead_time_hours':float,\n",
    "                'entry_date_hour':str,\n",
    "                'exit_date_hour':str,\n",
    "                'promo_code':str,\n",
    "                'amount_promo':str}"
   ]
  },
  {
   "cell_type": "code",
   "execution_count": 12,
   "metadata": {},
   "outputs": [],
   "source": [
    "df = pd.read_csv(\"../raw_data/bookings_without_onepark.csv\", \n",
    "                 dtype=custom_dtype, \n",
    "                 parse_dates=['creation_date_hour','beginning_date_hour', 'end_date_hour'])"
   ]
  },
  {
   "cell_type": "code",
   "execution_count": 17,
   "metadata": {},
   "outputs": [
    {
     "name": "stdout",
     "output_type": "stream",
     "text": [
      "id                             object\n",
      "pocket                         object\n",
      "product                        object\n",
      "status                         object\n",
      "option                         object\n",
      "guest_id                       object\n",
      "booking_fees                  float64\n",
      "amount                        float64\n",
      "total_amount                  float64\n",
      "discount                      float64\n",
      "creation_date_hour     datetime64[ns]\n",
      "beginning_date_hour    datetime64[ns]\n",
      "begining_slice                 object\n",
      "end_date_hour          datetime64[ns]\n",
      "max_date_hour                  object\n",
      "cxl_date_hour                  object\n",
      "los                            object\n",
      "lead_time_hours               float64\n",
      "entry_date_hour                object\n",
      "exit_date_hour                 object\n",
      "promo_code                     object\n",
      "amount_promo                   object\n",
      "dtype: object\n"
     ]
    }
   ],
   "source": [
    "# Check for types\n",
    "print(df.dtypes)"
   ]
  },
  {
   "cell_type": "code",
   "execution_count": 15,
   "metadata": {},
   "outputs": [
    {
     "data": {
      "text/plain": [
       "id                          0\n",
       "pocket                      0\n",
       "product                     0\n",
       "status                      0\n",
       "option                      0\n",
       "guest_id                10103\n",
       "booking_fees                0\n",
       "amount                      0\n",
       "total_amount                0\n",
       "discount                    0\n",
       "creation_date_hour          0\n",
       "beginning_date_hour         0\n",
       "begining_slice              0\n",
       "end_date_hour               0\n",
       "max_date_hour          265110\n",
       "cxl_date_hour          489786\n",
       "los                         0\n",
       "lead_time_hours             0\n",
       "entry_date_hour        536042\n",
       "exit_date_hour         536042\n",
       "promo_code             481949\n",
       "amount_promo           481946\n",
       "dtype: int64"
      ]
     },
     "execution_count": 15,
     "metadata": {},
     "output_type": "execute_result"
    }
   ],
   "source": [
    "# Check for nan values\n",
    "df = df.fillna('unknown')\n",
    "df.isin(['unknown']).sum()"
   ]
  },
  {
   "cell_type": "code",
   "execution_count": 29,
   "metadata": {},
   "outputs": [
    {
     "name": "stdout",
     "output_type": "stream",
     "text": [
      "              id      pocket product     status   option    guest_id  \\\n",
      "32564    5497261  0000100435     H10   finished  premium  DCL0051721   \n",
      "32741    5498845  0000100435     H10   finished  premium  DCL0382375   \n",
      "33060    5501611  0000100435     H10   finished  premium  DCL0382118   \n",
      "33066    5501688  0000100435     H10   finished  premium  DCL0382764   \n",
      "33436    5505401  0000100435     H10   finished  premium  DCL0313253   \n",
      "...          ...         ...     ...        ...      ...         ...   \n",
      "535771  10273459  0000000025    F398  completed  premium  DCL0880274   \n",
      "535811  10273802  0000000025     H10  completed  premium  DCL0682660   \n",
      "536018  10275752  0000100435    F398  completed  premium  DCL0097916   \n",
      "536043  10275903  0000100435    F398  completed  premium  DCL0248992   \n",
      "536081  10276221  0000000025     H10  completed  premium  DCL0887448   \n",
      "\n",
      "        booking_fees  amount  total_amount  discount  ...          los  \\\n",
      "32564            9.0    14.9          23.9       0.0  ...  06:00 24:00   \n",
      "32741            9.0    46.5          55.5       0.0  ...         +24h   \n",
      "33060            9.0    86.0          95.0       0.0  ...         +24h   \n",
      "33066            9.0     4.0          13.0       0.0  ...  00:30 06:00   \n",
      "33436            9.0    30.7          39.7       0.0  ...         +24h   \n",
      "...              ...     ...           ...       ...  ...          ...   \n",
      "535771           9.0    68.0          77.0       0.0  ...         +24h   \n",
      "535811           9.0    12.7          21.7       0.0  ...  06:00 24:00   \n",
      "536018          12.0    59.0          71.0       0.0  ...         +24h   \n",
      "536043          12.0    59.0          71.0       0.0  ...         +24h   \n",
      "536081           9.0    17.6          26.6       0.0  ...  06:00 24:00   \n",
      "\n",
      "       lead_time_hours entry_date_hour exit_date_hour promo_code amount_promo  \\\n",
      "32564        13.006944         unknown        unknown    unknown      unknown   \n",
      "32741       743.125833         unknown        unknown    unknown      unknown   \n",
      "33060        22.526389         unknown        unknown    unknown      unknown   \n",
      "33066       216.591944         unknown        unknown    unknown      unknown   \n",
      "33436       260.815278         unknown        unknown    unknown      unknown   \n",
      "...                ...             ...            ...        ...          ...   \n",
      "535771       41.383333         unknown        unknown    unknown      unknown   \n",
      "535811       37.571111         unknown        unknown    unknown      unknown   \n",
      "536018       14.920278         unknown        unknown    unknown      unknown   \n",
      "536043       14.038611         unknown        unknown    unknown      unknown   \n",
      "536081       11.352778         unknown        unknown    unknown      unknown   \n",
      "\n",
      "       z_score_booking_fees  z_score_amount z_score_total_amount  \\\n",
      "32564              3.056448       -0.979970            -0.638211   \n",
      "32741              3.056448        0.359108             0.720355   \n",
      "33060              3.056448        2.032956             2.418563   \n",
      "33066              3.056448       -1.441867            -1.106831   \n",
      "33436              3.056448       -0.310431             0.041072   \n",
      "...                     ...             ...                  ...   \n",
      "535771             3.056448        1.270190             1.644696   \n",
      "535811             3.056448       -1.073197            -0.732795   \n",
      "536018             4.311877        0.888807             1.386741   \n",
      "536043             4.311877        0.888807             1.386741   \n",
      "536081             3.056448       -0.865555            -0.522131   \n",
      "\n",
      "       z_score_discount  \n",
      "32564         -0.249314  \n",
      "32741         -0.249314  \n",
      "33060         -0.249314  \n",
      "33066         -0.249314  \n",
      "33436         -0.249314  \n",
      "...                 ...  \n",
      "535771        -0.249314  \n",
      "535811        -0.249314  \n",
      "536018        -0.249314  \n",
      "536043        -0.249314  \n",
      "536081        -0.249314  \n",
      "\n",
      "[7513 rows x 26 columns]\n",
      "7513\n"
     ]
    }
   ],
   "source": [
    "# Compute Z scores \n",
    "df['z_score_booking_fees'] = zscore(df['booking_fees'])\n",
    "df['z_score_amount'] = zscore(df['amount'])\n",
    "df['z_score_total_amount'] = zscore(df['total_amount'])\n",
    "df['z_score_discount'] = zscore(df['discount'])\n",
    "\n",
    "# Find outliers\n",
    "outliers = df[abs(df['z_score_booking_fees']) > 3]\n",
    "\n",
    "print(outliers)\n",
    "print(len(outliers))"
   ]
  },
  {
   "cell_type": "code",
   "execution_count": 30,
   "metadata": {},
   "outputs": [
    {
     "data": {
      "image/png": "[encoded data removed]",
      "text/plain": [
       "<Figure size 640x480 with 1 Axes>"
      ]
     },
     "metadata": {},
     "output_type": "display_data"
    }
   ],
   "source": [
    "plt.figure()\n",
    "plt.boxplot(df['booking_fees'].dropna())\n",
    "plt.title('Box Plot de Booking Fees')\n",
    "plt.show()"
   ]
  },
  {
   "cell_type": "code",
   "execution_count": 28,
   "metadata": {},
   "outputs": [
    {
     "data": {
      "image/png": "[encoded data removed]",
      "text/plain": [
       "<Figure size 640x480 with 1 Axes>"
      ]
     },
     "metadata": {},
     "output_type": "display_data"
    }
   ],
   "source": [
    "sns.boxplot(x=df['booking_fees'])\n",
    "plt.title('Box Plot de Booking Fees')\n",
    "plt.show()"
   ]
  },
  {
   "cell_type": "code",
   "execution_count": null,
   "metadata": {},
   "outputs": [],
   "source": []
  }
 ],
 "metadata": {
  "kernelspec": {
   "display_name": "lewagon",
   "language": "python",
   "name": "python3"
  },
  "language_info": {
   "codemirror_mode": {
    "name": "ipython",
    "version": 3
   },
   "file_extension": ".py",
   "mimetype": "text/x-python",
   "name": "python",
   "nbconvert_exporter": "python",
   "pygments_lexer": "ipython3",
   "version": "3.10.11"
  },
  "orig_nbformat": 4
 },
 "nbformat": 4,
 "nbformat_minor": 2
}
